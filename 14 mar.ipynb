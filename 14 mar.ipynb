{
 "cells": [
  {
   "cell_type": "code",
   "execution_count": 2,
   "id": "fcb72e41-d799-4945-86c6-c9311cde7a2b",
   "metadata": {},
   "outputs": [],
   "source": [
    "import scipy.stats as stats\n",
    "import numpy as np"
   ]
  },
  {
   "cell_type": "code",
   "execution_count": 5,
   "id": "9c3e9b01-a58d-40e3-92e0-1e69529db854",
   "metadata": {},
   "outputs": [
    {
     "data": {
      "text/plain": [
       "(2.5, 0.23576182265426504)"
      ]
     },
     "execution_count": 5,
     "metadata": {},
     "output_type": "execute_result"
    }
   ],
   "source": [
    "#Ans1:\n",
    "def f_test(a,b):\n",
    "    var1=np.var(a)\n",
    "    var2=np.var(b)\n",
    "    f_value=var1/var2\n",
    "    df1=len(a)-1\n",
    "    df2=len(b)-1\n",
    "    p_value=1-stats.f.cdf(f_value,df1,df2)\n",
    "    return (f_value,p_value) \n",
    "f_test([1,2,3,4],[6,7,7,8])\n",
    "    "
   ]
  },
  {
   "cell_type": "code",
   "execution_count": 6,
   "id": "38781c54-df15-401d-841d-2127cacb8b17",
   "metadata": {},
   "outputs": [
    {
     "name": "stdout",
     "output_type": "stream",
     "text": [
      "7.146381828732832 0.13993095022986143\n"
     ]
    }
   ],
   "source": [
    "#Ans2: \n",
    "def f_critical(alpha,df1,df2):\n",
    "    f_upper=stats.f.ppf((1-alpha/2),df1,df2)\n",
    "    f_lower=stats.f.ppf(alpha/2,df1,df2)\n",
    "    print(f_upper,f_lower)\n",
    "f_critical(0.05,5,5)\n",
    "    "
   ]
  },
  {
   "cell_type": "code",
   "execution_count": 17,
   "id": "470fd269-dc09-40af-9c19-217a7da82525",
   "metadata": {},
   "outputs": [
    {
     "name": "stdout",
     "output_type": "stream",
     "text": [
      "1.1017838294657432\n",
      "0.6004174182509714\n",
      "dof1 =  24  dof2 =  28\n"
     ]
    }
   ],
   "source": [
    "#Ans3: \n",
    "sd1=np.random.normal(50,3,25)\n",
    "sd2=np.random.normal(45,3.5,29)\n",
    "df1=24\n",
    "df2=28\n",
    "v1=np.var(sd1)\n",
    "v2=np.var(sd2)\n",
    "f_value=v1/v2\n",
    "print(f_value)\n",
    "p_value=stats.f.cdf(f_value,df1,df2)\n",
    "print(p_value)\n",
    "print('dof1 = ',df1,' dof2 = ',df2)"
   ]
  },
  {
   "cell_type": "code",
   "execution_count": 21,
   "id": "162ca91e-7a87-4b19-927c-5be41e06d031",
   "metadata": {},
   "outputs": [
    {
     "name": "stdout",
     "output_type": "stream",
     "text": [
      "We accept the null hypothesis i.e. the two variance are equal.\n"
     ]
    }
   ],
   "source": [
    "#Ans4: Given:\n",
    "sl=0.05\n",
    "pv1=10\n",
    "pv2=15\n",
    "n=12\n",
    "sv1=((n-1)*pv1)/n\n",
    "sv2=((n-1)*pv2)/n\n",
    "f_value=sv1/sv2\n",
    "f_upper=stats.f.ppf(1-sl/2,n-1,n-1)\n",
    "f_lower=stats.f.ppf(sl/2,n-1,n-1)\n",
    "if (f_value<f_upper and f_value>f_lower):\n",
    "    print('We accept the null hypothesis i.e. the two variance are equal.')\n",
    "else:\n",
    "    print('We reject the null hypothesis.')"
   ]
  },
  {
   "cell_type": "code",
   "execution_count": 25,
   "id": "2917465a-7d2f-45c6-95c4-b07cfa0b6bab",
   "metadata": {},
   "outputs": [
    {
     "name": "stdout",
     "output_type": "stream",
     "text": [
      "We reject the null hypothesis i.e. there is no difference\n"
     ]
    }
   ],
   "source": [
    "#Ans5: Given: \n",
    "sl=0.01\n",
    "pv=0.005\n",
    "sv=0.006\n",
    "n=25\n",
    "f_value=sv/pv\n",
    "f_crit=stats.f.ppf(1-sl,n-1,n-1)\n",
    "if (f_value<f_crit):\n",
    "    print('We reject the null hypothesis i.e. there is no difference')\n",
    "else:\n",
    "    print('We accept the null hypothesis')"
   ]
  },
  {
   "cell_type": "code",
   "execution_count": 1,
   "id": "3b775526-1538-40e5-a545-29c846d9e413",
   "metadata": {},
   "outputs": [
    {
     "data": {
      "text/plain": [
       "(1.5, 4.05)"
      ]
     },
     "execution_count": 1,
     "metadata": {},
     "output_type": "execute_result"
    }
   ],
   "source": [
    "#Ans6: \n",
    "def calc_var(df1,df2):\n",
    "    mean=df2/(df2-2)\n",
    "    variance=(2*(df2**2)*(df1+df2-2))/(df1*((df2-2)**2)*(df2-4))\n",
    "    return (mean,variance)\n",
    "calc_var(5,6)"
   ]
  },
  {
   "cell_type": "code",
   "execution_count": 3,
   "id": "53cc1f54-a29e-4989-bac9-117737a10dfc",
   "metadata": {},
   "outputs": [
    {
     "name": "stdout",
     "output_type": "stream",
     "text": [
      "We accept the null hypothesis i.e. there is no difference between the two variance.\n"
     ]
    }
   ],
   "source": [
    "#Ans7:\n",
    "sl=0.10\n",
    "n1=10\n",
    "v1=25\n",
    "n2=15\n",
    "v2=20\n",
    "dof1=9\n",
    "dof2=14\n",
    "f_value=v1/v2\n",
    "f_critical=stats.f.ppf(1-sl,dof1,dof2)\n",
    "if (f_value<f_critical):\n",
    "    print(\"We accept the null hypothesis i.e. there is no difference between the two variance.\")\n",
    "else:\n",
    "    print(\"We reject the null hypothesis.\")"
   ]
  },
  {
   "cell_type": "code",
   "execution_count": 4,
   "id": "7199078a-2a93-446e-996e-960719d6eb27",
   "metadata": {},
   "outputs": [
    {
     "name": "stdout",
     "output_type": "stream",
     "text": [
      "We accept the null hypothesis i.e. There is no difference between the variance of two.\n"
     ]
    }
   ],
   "source": [
    "#Ans8:\n",
    "resturant_1=[24, 25, 28, 23, 22, 20, 27]\n",
    "resturant_2=[31, 33, 35, 30, 32, 36]\n",
    "sl=0.05\n",
    "dof1=len(resturant_1)-1\n",
    "dof2=len(resturant_2)-1\n",
    "var1=np.var(resturant_1)\n",
    "var2=np.var(resturant_2)\n",
    "f_value=var1/var2\n",
    "f_critical=stats.f.ppf(1-sl,dof1,dof2)\n",
    "if (f_value<f_critical):\n",
    "    print('We accept the null hypothesis i.e. There is no difference between the variance of two.')\n",
    "else:\n",
    "    print('We reject the null hypothesis.')"
   ]
  },
  {
   "cell_type": "code",
   "execution_count": null,
   "id": "224ae5e6-6313-4a1b-9f88-e458e9a6610f",
   "metadata": {},
   "outputs": [],
   "source": [
    "#Ans9:\n",
    "grpA=[80, 85, 90, 92, 87, 83]\n",
    "grpB=[75, 78, 82, 79, 81, 84]\n",
    "dof1=len(grpA)-1\n",
    "dof2=len(grpB)-1\n",
    "sl=0.01\n",
    "var1=np.var(grpA)\n",
    "var2=np.var(grpB)\n",
    "f_value=var1/var2\n",
    "f_critical=stats.f.ppf(1-sl,dof1,dof2)\n",
    "if(f_value<f_critical):\n",
    "    print('We accept the null hypothesis i.e. there is no difference between the variance of two.')\n",
    "else:\n",
    "    print('We reject the null hypotheis.')"
   ]
  }
 ],
 "metadata": {
  "kernelspec": {
   "display_name": "Python 3 (ipykernel)",
   "language": "python",
   "name": "python3"
  },
  "language_info": {
   "codemirror_mode": {
    "name": "ipython",
    "version": 3
   },
   "file_extension": ".py",
   "mimetype": "text/x-python",
   "name": "python",
   "nbconvert_exporter": "python",
   "pygments_lexer": "ipython3",
   "version": "3.10.8"
  }
 },
 "nbformat": 4,
 "nbformat_minor": 5
}
